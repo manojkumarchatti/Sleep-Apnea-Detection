{
 "cells": [
  {
   "cell_type": "code",
   "execution_count": 1,
   "metadata": {},
   "outputs": [],
   "source": [
    "\n",
    "import warnings\n",
    "warnings.filterwarnings('ignore')\n",
    "import joblib\n",
    "import numpy as np\n",
    "import pickle\n",
    "import sqlite3\n",
    "import os\n",
    "# Keras\n",
    "from keras.applications.imagenet_utils import preprocess_input, decode_predictions\n",
    "from keras.models import load_model\n",
    "from keras.preprocessing import image\n",
    "\n"
   ]
  },
  {
   "cell_type": "code",
   "execution_count": 9,
   "metadata": {},
   "outputs": [],
   "source": [
    "model_path2 = 'models.h5' # load .h5 Model\n",
    "\n",
    "# model_path2 ='vgg19.h5'\n",
    "\n",
    "CTS = load_model(model_path2) \n",
    "from keras.preprocessing.image import load_img, img_to_array\n",
    "\n",
    "lr = joblib.load(\"model.pkl\")\n"
   ]
  },
  {
   "cell_type": "markdown",
   "metadata": {},
   "source": [
    "# Features_Input1"
   ]
  },
  {
   "cell_type": "code",
   "execution_count": 3,
   "metadata": {},
   "outputs": [],
   "source": [
    "def Find_Level(lr_pm):\n",
    "    if(lr_pm<=5):\n",
    "        return \"Normal\"\n",
    "    elif(lr_pm>5 and lr_pm<=14.9):\n",
    "        return \"Mild OSA\"\n",
    "    elif(lr_pm>14.9 and lr_pm<=29.9):\n",
    "        return \"Moderate OSA\"\n",
    "    else:\n",
    "        return \"Severe OSA\"\n",
    "    \n",
    "    "
   ]
  },
  {
   "cell_type": "code",
   "execution_count": 4,
   "metadata": {},
   "outputs": [
    {
     "name": "stdout",
     "output_type": "stream",
     "text": [
      "Enter Gender give 0 for women 1 for male0\n",
      "Enter BQ value23\n",
      "Enter ESS value22\n",
      "Enter BMI value34\n",
      "Enter Weight value77\n",
      "Enter Height value167\n",
      "Enter Head value65\n",
      "Enter Neck value69\n",
      "Enter waist value69\n",
      "Enter Buttock value70\n",
      "Enter Age value39\n",
      "[26.44150069]\n",
      "Predicted value of AHI is[26.44150069]events per hour ,Moderate OSA\n"
     ]
    }
   ],
   "source": [
    "val1=int(input(\"Enter Gender give 0 for women 1 for male\"))\n",
    "val2=int(input(\"Enter BQ value\"))\n",
    "val3=int(input(\"Enter ESS value\"))\n",
    "val4=int(input(\"Enter BMI value\"))\n",
    "val5=int(input(\"Enter Weight value\"))\n",
    "val6=int(input(\"Enter Height value\"))\n",
    "val7=int(input(\"Enter Head value\"))\n",
    "val8=int(input(\"Enter Neck value\"))\n",
    "val9=int(input(\"Enter waist value\"))\n",
    "val10=int(input(\"Enter Buttock value\"))\n",
    "val11=int(input(\"Enter Age value\"))\n",
    "#val1, val2, val3, val4, val5, val6, val7, val8,val9,val10,val11 = float(request.form['1']), float(request.form['2']), float(request.form['3']), float(request.form['4']), float(request.form['5']), float(request.form['6']), float(request.form['7']), float(request.form['8']), float(request.form['9']), float(request.form['10']), float(request.form['11'])\n",
    "#lr_pm = lr.predict([[val1, val2, val3, val4, val5, val6, val7, val8,val9,val10,val11]])\n",
    "lr_pm = lr.predict([[val1, val2, val3, val4, val5, val6, val7, val8,val9,val10,val11]])\n",
    "print(lr_pm)\n",
    "\n",
    "print(\"Predicted value of AHI is\"+str(lr_pm)+ \"events per hour ,\"+Find_Level(lr_pm))\n"
   ]
  },
  {
   "cell_type": "markdown",
   "metadata": {},
   "source": [
    "\n",
    "# Feature_Input 2\n",
    "\n",
    "\n",
    "   "
   ]
  },
  {
   "cell_type": "code",
   "execution_count": 5,
   "metadata": {},
   "outputs": [
    {
     "name": "stdout",
     "output_type": "stream",
     "text": [
      "Enter Gender give 0 for women 1 for male0\n",
      "Enter BQ value77\n",
      "Enter ESS value56\n",
      "Enter BMI value87\n",
      "Enter Weight value88\n",
      "Enter Height value177\n",
      "Enter Head value65\n",
      "Enter Neck value98\n",
      "Enter waist value66\n",
      "Enter Buttock value77\n",
      "Enter Age value56\n",
      "[11.40628344]\n",
      "Predicted value of AHI is[11.40628344]events per hour ,Mild OSA\n"
     ]
    }
   ],
   "source": [
    "val1=int(input(\"Enter Gender give 0 for women 1 for male\"))\n",
    "val2=int(input(\"Enter BQ value\"))\n",
    "val3=int(input(\"Enter ESS value\"))\n",
    "val4=int(input(\"Enter BMI value\"))\n",
    "val5=int(input(\"Enter Weight value\"))\n",
    "val6=int(input(\"Enter Height value\"))\n",
    "val7=int(input(\"Enter Head value\"))\n",
    "val8=int(input(\"Enter Neck value\"))\n",
    "val9=int(input(\"Enter waist value\"))\n",
    "val10=int(input(\"Enter Buttock value\"))\n",
    "val11=int(input(\"Enter Age value\"))\n",
    "#val1, val2, val3, val4, val5, val6, val7, val8,val9,val10,val11 = float(request.form['1']), float(request.form['2']), float(request.form['3']), float(request.form['4']), float(request.form['5']), float(request.form['6']), float(request.form['7']), float(request.form['8']), float(request.form['9']), float(request.form['10']), float(request.form['11'])\n",
    "#lr_pm = lr.predict([[val1, val2, val3, val4, val5, val6, val7, val8,val9,val10,val11]])\n",
    "lr_pm = lr.predict([[val1, val2, val3, val4, val5, val6, val7, val8,val9,val10,val11]])\n",
    "print(lr_pm)\n",
    "\n",
    "print(\"Predicted value of AHI is\"+str(lr_pm)+ \"events per hour ,\"+Find_Level(lr_pm))\n",
    "\n",
    "\n",
    "\n",
    "   "
   ]
  },
  {
   "cell_type": "code",
   "execution_count": 10,
   "metadata": {},
   "outputs": [],
   "source": [
    "\n",
    "def model_predict2(image_path,model):\n",
    "    print(\"Predicted\")\n",
    "    image = load_img(image_path,target_size=(299,299))\n",
    "    image = img_to_array(image)\n",
    "    image = image/255\n",
    "    image = np.expand_dims(image,axis=0)\n",
    "    \n",
    "    result = np.argmax(model.predict(image))\n",
    "     \n",
    "    \n",
    "    if result == 0:\n",
    "        return \"F! Normal\"    \n",
    "    elif result == 1:\n",
    "        return \"M! Central Sleep Apnea\"\n",
    "       \n",
    "    elif result == 2:\n",
    "         return \"N! Mild Obstructive Sleep Apnea\"\n",
    "        \n",
    "    elif result == 3:\n",
    "        return \"Q! Moderate Obstructive Sleep Apnea\"\n",
    "        \n",
    "    elif result == 4:\n",
    "        return \"S! Severe Obstructive Sleep Apnea\"\n",
    "    elif result == 5:\n",
    "        return \"V! Complex Sleep Apnea\"\n",
    "\n",
    "\n"
   ]
  },
  {
   "cell_type": "code",
   "execution_count": 12,
   "metadata": {},
   "outputs": [
    {
     "name": "stdout",
     "output_type": "stream",
     "text": [
      "Predicted\n",
      "F! Normal\n"
     ]
    }
   ],
   "source": [
    "file_path = 'C:/Users/HP/Desktop/sleepapena/sample/1 (1).png'\n",
    "\n",
    "pred = model_predict2(file_path,CTS)\n",
    "print(pred)\n"
   ]
  },
  {
   "cell_type": "code",
   "execution_count": 14,
   "metadata": {},
   "outputs": [
    {
     "name": "stdout",
     "output_type": "stream",
     "text": [
      "Predicted\n",
      "S! Severe Obstructive Sleep Apnea\n"
     ]
    }
   ],
   "source": [
    "file_path = 'C:/Users/HP/Desktop/sleepapena/sample/2 (14).png'\n",
    "\n",
    "\n",
    "pred = model_predict2(file_path,CTS)\n",
    "print(pred)"
   ]
  },
  {
   "cell_type": "code",
   "execution_count": null,
   "metadata": {},
   "outputs": [],
   "source": []
  }
 ],
 "metadata": {
  "kernelspec": {
   "display_name": "Python 3",
   "language": "python",
   "name": "python3"
  },
  "language_info": {
   "codemirror_mode": {
    "name": "ipython",
    "version": 3
   },
   "file_extension": ".py",
   "mimetype": "text/x-python",
   "name": "python",
   "nbconvert_exporter": "python",
   "pygments_lexer": "ipython3",
   "version": "3.7.4"
  }
 },
 "nbformat": 4,
 "nbformat_minor": 2
}
